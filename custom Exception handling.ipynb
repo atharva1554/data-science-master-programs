{
 "cells": [
  {
   "cell_type": "code",
   "execution_count": 2,
   "id": "c3f21619",
   "metadata": {},
   "outputs": [
    {
     "name": "stdout",
     "output_type": "stream",
     "text": [
      "enter your age8652\n"
     ]
    }
   ],
   "source": [
    "age=int(input(\"enter your age\"))"
   ]
  },
  {
   "cell_type": "raw",
   "id": "20cade17",
   "metadata": {},
   "source": [
    "1)raise is the reserve key word which call your custome class"
   ]
  },
  {
   "cell_type": "code",
   "execution_count": 3,
   "id": "8a5c1bd9",
   "metadata": {},
   "outputs": [],
   "source": [
    "class validaeage(Exception):\n",
    "    def __init__(self,msg):\n",
    "        self.msg=msg"
   ]
  },
  {
   "cell_type": "code",
   "execution_count": 4,
   "id": "b70c0dfa",
   "metadata": {},
   "outputs": [],
   "source": [
    "def validate_age(age):\n",
    "    if age<0:\n",
    "        raise validaeage(\"age should not be less than zero\")\n",
    "    elif age>200:\n",
    "        raise validaeage(\"age is to high\")\n",
    "    else:\n",
    "        print(\"age is valid\")"
   ]
  },
  {
   "cell_type": "code",
   "execution_count": 7,
   "id": "2e910e4a",
   "metadata": {},
   "outputs": [
    {
     "name": "stdout",
     "output_type": "stream",
     "text": [
      "enter your age25\n",
      "age is valid\n"
     ]
    }
   ],
   "source": [
    "try:\n",
    "    age=int(input(\"enter your age\"))\n",
    "    validate_age(age)\n",
    "except validaeage as e:\n",
    "    print(e)\n",
    "    "
   ]
  },
  {
   "cell_type": "code",
   "execution_count": null,
   "id": "46c9446b",
   "metadata": {},
   "outputs": [],
   "source": []
  }
 ],
 "metadata": {
  "kernelspec": {
   "display_name": "Python 3 (ipykernel)",
   "language": "python",
   "name": "python3"
  },
  "language_info": {
   "codemirror_mode": {
    "name": "ipython",
    "version": 3
   },
   "file_extension": ".py",
   "mimetype": "text/x-python",
   "name": "python",
   "nbconvert_exporter": "python",
   "pygments_lexer": "ipython3",
   "version": "3.9.12"
  }
 },
 "nbformat": 4,
 "nbformat_minor": 5
}
